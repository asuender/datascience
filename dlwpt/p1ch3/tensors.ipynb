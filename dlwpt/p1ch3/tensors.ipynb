{
 "cells": [
  {
   "cell_type": "markdown",
   "id": "7c5e06cf-a5f5-488f-add7-1ca5c4183544",
   "metadata": {},
   "source": [
    "# Arbeiten mit Tensors"
   ]
  },
  {
   "cell_type": "markdown",
   "id": "1c2db400-d9b0-4252-99fe-b387d2dab347",
   "metadata": {},
   "source": [
    "Andreas Sünder"
   ]
  },
  {
   "cell_type": "code",
   "execution_count": 1,
   "id": "29a7693c-e28e-4ea2-ad56-c111f6d712bd",
   "metadata": {},
   "outputs": [],
   "source": [
    "import torch"
   ]
  },
  {
   "cell_type": "code",
   "execution_count": 2,
   "id": "a12e4ade-4e19-4f0c-8c82-cbead17c4342",
   "metadata": {},
   "outputs": [
    {
     "data": {
      "text/plain": [
       "tensor([1., 1., 1.])"
      ]
     },
     "execution_count": 2,
     "metadata": {},
     "output_type": "execute_result"
    }
   ],
   "source": [
    "a = torch.ones(3)\n",
    "a"
   ]
  },
  {
   "cell_type": "code",
   "execution_count": 6,
   "id": "3a5db71c-7944-421e-a3ae-9c00f72b4514",
   "metadata": {},
   "outputs": [
    {
     "data": {
      "text/plain": [
       "tensor([0., 0., 0.])"
      ]
     },
     "execution_count": 6,
     "metadata": {},
     "output_type": "execute_result"
    }
   ],
   "source": [
    "b = torch.zeros(3)\n",
    "b"
   ]
  },
  {
   "cell_type": "code",
   "execution_count": 3,
   "id": "82ebc31c-4cc4-4627-a365-d7808b0eb966",
   "metadata": {},
   "outputs": [
    {
     "data": {
      "text/plain": [
       "tensor(1.)"
      ]
     },
     "execution_count": 3,
     "metadata": {},
     "output_type": "execute_result"
    }
   ],
   "source": [
    "a[1]"
   ]
  },
  {
   "cell_type": "code",
   "execution_count": 4,
   "id": "d8e1ed0e-a422-4918-958c-63a5eafd2a64",
   "metadata": {},
   "outputs": [
    {
     "data": {
      "text/plain": [
       "tensor([1., 1., 2.])"
      ]
     },
     "execution_count": 4,
     "metadata": {},
     "output_type": "execute_result"
    }
   ],
   "source": [
    "a[2] = 2.0\n",
    "a"
   ]
  },
  {
   "cell_type": "markdown",
   "id": "b830d60d-ff7c-41fc-9f06-63af7dee44b6",
   "metadata": {},
   "source": [
    "Tensor-Objekte lassen sich auch direkt über den Konstruktor initialisieren:"
   ]
  },
  {
   "cell_type": "code",
   "execution_count": 5,
   "id": "bb590e1c-3ef1-4e57-a777-3e2f176ff3d6",
   "metadata": {},
   "outputs": [
    {
     "data": {
      "text/plain": [
       "tensor([4., 1., 5., 3., 2., 1.])"
      ]
     },
     "execution_count": 5,
     "metadata": {},
     "output_type": "execute_result"
    }
   ],
   "source": [
    "points = torch.tensor([4.0, 1.0, 5.0, 3.0, 2.0, 1.0])\n",
    "points"
   ]
  },
  {
   "cell_type": "code",
   "execution_count": 9,
   "id": "a29cd607-1a42-48a7-a26a-6db44bd21710",
   "metadata": {},
   "outputs": [
    {
     "data": {
      "text/plain": [
       "(4.0, 1.0)"
      ]
     },
     "execution_count": 9,
     "metadata": {},
     "output_type": "execute_result"
    }
   ],
   "source": [
    "float(points[0]), float(points[1])"
   ]
  },
  {
   "cell_type": "markdown",
   "id": "66a41c65-33aa-49ad-9ab9-92cb24f98041",
   "metadata": {},
   "source": [
    "Es sind auch zweidimensionale Tensors möglich:"
   ]
  },
  {
   "cell_type": "code",
   "execution_count": 10,
   "id": "10145502-c64f-4446-8ba9-f1d6a7504594",
   "metadata": {},
   "outputs": [
    {
     "data": {
      "text/plain": [
       "tensor([[4., 1.],\n",
       "        [5., 3.],\n",
       "        [2., 1.]])"
      ]
     },
     "execution_count": 10,
     "metadata": {},
     "output_type": "execute_result"
    }
   ],
   "source": [
    "points = torch.tensor([[4.0, 1.0], [5.0, 3.0], [2.0, 1.0]])\n",
    "points"
   ]
  },
  {
   "cell_type": "markdown",
   "id": "5e53d364-37a2-4e2d-9e3b-8253a88304be",
   "metadata": {},
   "source": [
    "Die Größe lässt sich über `tensor.shape` herausfinden:"
   ]
  },
  {
   "cell_type": "code",
   "execution_count": 11,
   "id": "c71066b1-2848-4b71-8fc1-6fb4213b65e8",
   "metadata": {},
   "outputs": [
    {
     "data": {
      "text/plain": [
       "torch.Size([3, 2])"
      ]
     },
     "execution_count": 11,
     "metadata": {},
     "output_type": "execute_result"
    }
   ],
   "source": [
    "points.shape"
   ]
  },
  {
   "cell_type": "markdown",
   "id": "98101e82-d969-4fbd-9f7e-a8a0e8a947aa",
   "metadata": {},
   "source": [
    "Zweidimensionale Arrays lassen sich auch über `zeros` oder `ones` erstellen:"
   ]
  },
  {
   "cell_type": "code",
   "execution_count": 13,
   "id": "7e1a944b-b482-46e4-bb7b-23dae41c1f57",
   "metadata": {},
   "outputs": [
    {
     "data": {
      "text/plain": [
       "tensor([[0., 0.],\n",
       "        [0., 0.],\n",
       "        [0., 0.]])"
      ]
     },
     "execution_count": 13,
     "metadata": {},
     "output_type": "execute_result"
    }
   ],
   "source": [
    "points = torch.zeros(3, 2)\n",
    "points"
   ]
  },
  {
   "cell_type": "markdown",
   "id": "e2c1f0e7-6394-40bd-9b38-6d71ffae1074",
   "metadata": {},
   "source": [
    "Diese Arrays lassen sich über ein oder zwei Indexes ansprechen:"
   ]
  },
  {
   "cell_type": "code",
   "execution_count": 15,
   "id": "24c06e77-73d5-47ac-8c9d-104f46f0c252",
   "metadata": {},
   "outputs": [
    {
     "data": {
      "text/plain": [
       "tensor([[4., 1.],\n",
       "        [5., 3.],\n",
       "        [2., 1.]])"
      ]
     },
     "execution_count": 15,
     "metadata": {},
     "output_type": "execute_result"
    }
   ],
   "source": [
    "points = torch.tensor([[4.0, 1.0], [5.0, 3.0], [2.0, 1.0]])\n",
    "points"
   ]
  },
  {
   "cell_type": "code",
   "execution_count": 16,
   "id": "7bcade4e-6266-4bf8-8778-7c158ea48763",
   "metadata": {},
   "outputs": [
    {
     "data": {
      "text/plain": [
       "tensor(1.)"
      ]
     },
     "execution_count": 16,
     "metadata": {},
     "output_type": "execute_result"
    }
   ],
   "source": [
    "points[0, 1]"
   ]
  },
  {
   "cell_type": "code",
   "execution_count": 17,
   "id": "e7cf4981-1146-4f80-a5a1-7f273df5dab7",
   "metadata": {},
   "outputs": [
    {
     "data": {
      "text/plain": [
       "tensor([4., 1.])"
      ]
     },
     "execution_count": 17,
     "metadata": {},
     "output_type": "execute_result"
    }
   ],
   "source": [
    "points[0]"
   ]
  },
  {
   "cell_type": "code",
   "execution_count": null,
   "id": "2c5aab4f-f6cc-4966-ba46-4961a4e00c67",
   "metadata": {},
   "outputs": [],
   "source": []
  }
 ],
 "metadata": {
  "kernelspec": {
   "display_name": "ds-env",
   "language": "python",
   "name": "ds-env"
  },
  "language_info": {
   "codemirror_mode": {
    "name": "ipython",
    "version": 3
   },
   "file_extension": ".py",
   "mimetype": "text/x-python",
   "name": "python",
   "nbconvert_exporter": "python",
   "pygments_lexer": "ipython3",
   "version": "3.11.5"
  }
 },
 "nbformat": 4,
 "nbformat_minor": 5
}
