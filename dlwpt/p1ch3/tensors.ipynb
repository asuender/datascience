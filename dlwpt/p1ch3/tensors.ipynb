{
 "cells": [
  {
   "cell_type": "markdown",
   "id": "7c5e06cf-a5f5-488f-add7-1ca5c4183544",
   "metadata": {},
   "source": [
    "# Arbeiten mit Tensors"
   ]
  },
  {
   "cell_type": "markdown",
   "id": "1c2db400-d9b0-4252-99fe-b387d2dab347",
   "metadata": {},
   "source": [
    "Andreas Sünder"
   ]
  },
  {
   "cell_type": "code",
   "execution_count": 53,
   "id": "418f7c73-75d3-40b2-8c95-3eb55754ffa2",
   "metadata": {
    "editable": true,
    "slideshow": {
     "slide_type": ""
    },
    "tags": []
   },
   "outputs": [
    {
     "data": {
      "text/html": [
       "<style>\n",
       "table {float:left}\n",
       "</style>\n"
      ],
      "text/plain": [
       "<IPython.core.display.HTML object>"
      ]
     },
     "metadata": {},
     "output_type": "display_data"
    }
   ],
   "source": [
    "%%html\n",
    "<style>\n",
    "table {float:left}\n",
    "</style>"
   ]
  },
  {
   "cell_type": "markdown",
   "id": "97578ecc-534c-442e-9d66-fc34c376d432",
   "metadata": {},
   "source": [
    "## Grundlagen"
   ]
  },
  {
   "cell_type": "code",
   "execution_count": 54,
   "id": "29a7693c-e28e-4ea2-ad56-c111f6d712bd",
   "metadata": {},
   "outputs": [],
   "source": [
    "import torch"
   ]
  },
  {
   "cell_type": "code",
   "execution_count": 55,
   "id": "a12e4ade-4e19-4f0c-8c82-cbead17c4342",
   "metadata": {},
   "outputs": [
    {
     "data": {
      "text/plain": [
       "tensor([1., 1., 1.])"
      ]
     },
     "execution_count": 55,
     "metadata": {},
     "output_type": "execute_result"
    }
   ],
   "source": [
    "a = torch.ones(3)\n",
    "a"
   ]
  },
  {
   "cell_type": "code",
   "execution_count": 56,
   "id": "3a5db71c-7944-421e-a3ae-9c00f72b4514",
   "metadata": {},
   "outputs": [
    {
     "data": {
      "text/plain": [
       "tensor([0., 0., 0.])"
      ]
     },
     "execution_count": 56,
     "metadata": {},
     "output_type": "execute_result"
    }
   ],
   "source": [
    "b = torch.zeros(3)\n",
    "b"
   ]
  },
  {
   "cell_type": "code",
   "execution_count": 57,
   "id": "82ebc31c-4cc4-4627-a365-d7808b0eb966",
   "metadata": {},
   "outputs": [
    {
     "data": {
      "text/plain": [
       "tensor(1.)"
      ]
     },
     "execution_count": 57,
     "metadata": {},
     "output_type": "execute_result"
    }
   ],
   "source": [
    "a[1]"
   ]
  },
  {
   "cell_type": "code",
   "execution_count": 58,
   "id": "d8e1ed0e-a422-4918-958c-63a5eafd2a64",
   "metadata": {},
   "outputs": [
    {
     "data": {
      "text/plain": [
       "tensor([1., 1., 2.])"
      ]
     },
     "execution_count": 58,
     "metadata": {},
     "output_type": "execute_result"
    }
   ],
   "source": [
    "a[2] = 2.0\n",
    "a"
   ]
  },
  {
   "cell_type": "markdown",
   "id": "b830d60d-ff7c-41fc-9f06-63af7dee44b6",
   "metadata": {},
   "source": [
    "Tensor-Objekte lassen sich auch direkt über den Konstruktor initialisieren:"
   ]
  },
  {
   "cell_type": "code",
   "execution_count": 59,
   "id": "bb590e1c-3ef1-4e57-a777-3e2f176ff3d6",
   "metadata": {},
   "outputs": [
    {
     "data": {
      "text/plain": [
       "tensor([4., 1., 5., 3., 2., 1.])"
      ]
     },
     "execution_count": 59,
     "metadata": {},
     "output_type": "execute_result"
    }
   ],
   "source": [
    "points = torch.tensor([4.0, 1.0, 5.0, 3.0, 2.0, 1.0])\n",
    "points"
   ]
  },
  {
   "cell_type": "code",
   "execution_count": 60,
   "id": "a29cd607-1a42-48a7-a26a-6db44bd21710",
   "metadata": {},
   "outputs": [
    {
     "data": {
      "text/plain": [
       "(4.0, 1.0)"
      ]
     },
     "execution_count": 60,
     "metadata": {},
     "output_type": "execute_result"
    }
   ],
   "source": [
    "float(points[0]), float(points[1])"
   ]
  },
  {
   "cell_type": "markdown",
   "id": "66a41c65-33aa-49ad-9ab9-92cb24f98041",
   "metadata": {},
   "source": [
    "Es sind auch zweidimensionale Tensors möglich:"
   ]
  },
  {
   "cell_type": "code",
   "execution_count": 61,
   "id": "10145502-c64f-4446-8ba9-f1d6a7504594",
   "metadata": {},
   "outputs": [
    {
     "data": {
      "text/plain": [
       "tensor([[4., 1.],\n",
       "        [5., 3.],\n",
       "        [2., 1.]])"
      ]
     },
     "execution_count": 61,
     "metadata": {},
     "output_type": "execute_result"
    }
   ],
   "source": [
    "points = torch.tensor([[4.0, 1.0], [5.0, 3.0], [2.0, 1.0]])\n",
    "points"
   ]
  },
  {
   "cell_type": "markdown",
   "id": "5e53d364-37a2-4e2d-9e3b-8253a88304be",
   "metadata": {},
   "source": [
    "Die Größe lässt sich über `tensor.shape` herausfinden:"
   ]
  },
  {
   "cell_type": "code",
   "execution_count": 62,
   "id": "c71066b1-2848-4b71-8fc1-6fb4213b65e8",
   "metadata": {},
   "outputs": [
    {
     "data": {
      "text/plain": [
       "torch.Size([3, 2])"
      ]
     },
     "execution_count": 62,
     "metadata": {},
     "output_type": "execute_result"
    }
   ],
   "source": [
    "points.shape"
   ]
  },
  {
   "cell_type": "markdown",
   "id": "98101e82-d969-4fbd-9f7e-a8a0e8a947aa",
   "metadata": {},
   "source": [
    "Zweidimensionale Arrays lassen sich auch über `zeros` oder `ones` erstellen:"
   ]
  },
  {
   "cell_type": "code",
   "execution_count": 63,
   "id": "7e1a944b-b482-46e4-bb7b-23dae41c1f57",
   "metadata": {},
   "outputs": [
    {
     "data": {
      "text/plain": [
       "tensor([[0., 0.],\n",
       "        [0., 0.],\n",
       "        [0., 0.]])"
      ]
     },
     "execution_count": 63,
     "metadata": {},
     "output_type": "execute_result"
    }
   ],
   "source": [
    "points = torch.zeros(3, 2)\n",
    "points"
   ]
  },
  {
   "cell_type": "markdown",
   "id": "e2c1f0e7-6394-40bd-9b38-6d71ffae1074",
   "metadata": {},
   "source": [
    "Diese Arrays lassen sich über ein oder zwei Indexes ansprechen:"
   ]
  },
  {
   "cell_type": "code",
   "execution_count": 64,
   "id": "24c06e77-73d5-47ac-8c9d-104f46f0c252",
   "metadata": {},
   "outputs": [
    {
     "data": {
      "text/plain": [
       "tensor([[4., 1.],\n",
       "        [5., 3.],\n",
       "        [2., 1.]])"
      ]
     },
     "execution_count": 64,
     "metadata": {},
     "output_type": "execute_result"
    }
   ],
   "source": [
    "points = torch.tensor([[4.0, 1.0], [5.0, 3.0], [2.0, 1.0]])\n",
    "points"
   ]
  },
  {
   "cell_type": "code",
   "execution_count": 65,
   "id": "7bcade4e-6266-4bf8-8778-7c158ea48763",
   "metadata": {},
   "outputs": [
    {
     "data": {
      "text/plain": [
       "tensor(1.)"
      ]
     },
     "execution_count": 65,
     "metadata": {},
     "output_type": "execute_result"
    }
   ],
   "source": [
    "points[0, 1]"
   ]
  },
  {
   "cell_type": "code",
   "execution_count": 66,
   "id": "e7cf4981-1146-4f80-a5a1-7f273df5dab7",
   "metadata": {},
   "outputs": [
    {
     "data": {
      "text/plain": [
       "tensor([4., 1.])"
      ]
     },
     "execution_count": 66,
     "metadata": {},
     "output_type": "execute_result"
    }
   ],
   "source": [
    "points[0]"
   ]
  },
  {
   "cell_type": "markdown",
   "id": "159775c9-04e9-48e2-88f8-9a7d7e31a5ee",
   "metadata": {},
   "source": [
    "## Datentypen"
   ]
  },
  {
   "cell_type": "markdown",
   "id": "1bffbe72-0ed1-4c89-8c64-ee309701fcb6",
   "metadata": {},
   "source": [
    "In PyTorch wurden eigene Datentypen definiert, die extra für das Arbeiten mit Tensors verwendet werden können:"
   ]
  },
  {
   "cell_type": "markdown",
   "id": "c906849b-e98e-4cf1-be5b-0fd354ea7ec5",
   "metadata": {
    "editable": true,
    "slideshow": {
     "slide_type": ""
    },
    "tags": []
   },
   "source": [
    "|Data type|dtype|CPU tensor|GPU tensor|\r\n",
    "|--- |--- |--- |--- |\r\n",
    "|32-bit floating point|torch.float32  torch.floatat|torch.FloatTensor|torch.cuda.FloatTensor|\r\n",
    "|64-bit floating point|torch.float64 or torch.double|torch.DoubleTensor|torch.cuda.DoubleTensor|\r\n",
    "|16-bit floating point [1]|torch.float16 or torch.half|torch.HalfTensor|torch.cuda.HalfTensor|\r\n",
    "|16-bit floating point [2]|torch.bfloat16|torch.BFloat16Tensor|torch.cuda.BFloat16Tensor|\r\n",
    "|32-bit complex|torch.complex32 or torch.chalf|||\r\n",
    "|64-bit complex|torch.complex64 or torch.cfloat|||\r\n",
    "|128-bit complex|torch.complex128 or torch.cdouble|||\r\n",
    "|8-bit integer (unsigned)|torch.uint8|torch.ByteTensor|torch.cuda.ByteTensor|\r\n",
    "|8-bit integer (signed)|torch.int8|torch.CharTensor|torch.cuda.CharTensor|\r\n",
    "|16-bit integer (signed)|torch.int16 or torch.short|torch.ShortTensor|torch.cuda.ShortTensor|\r\n",
    "|32-bit integer (signed)|torch.int32 or torch.int|torch.IntTensor|torch.cuda.IntTensor|\r\n",
    "|64-bit integer (signed)|torch.int64 or torch.long|torch.LongTensor|torch.cuda.LongTensor|\r\n",
    "|Boolean|torch.bool|torch.BoolTensor|torch.cuda.BoolTensor|\r\n",
    "|quantized 8-bit integer (unsigned)|torch.quint8|torch.ByteTensor|/|\r\n",
    "|quantized 8-bit integer (signed)|torch.qint8|torch.CharTensor|/|\r\n",
    "|quantized 32-bit integer (signed)|torch.qint32|torch.IntTensor|/|\r\n",
    "|quantized 4-bit integer (unsigned) [3]|torch.quint4x2|torch.ByteTensor|/|"
   ]
  },
  {
   "cell_type": "markdown",
   "id": "c16e5c0d-9ab9-48fe-b4b1-86fccd140375",
   "metadata": {},
   "source": [
    "Möchte man bestimmte Datentypen verwenden, kann man diesen beim Erstellen von Tensors über das `dtype`-Argument angeben:"
   ]
  },
  {
   "cell_type": "code",
   "execution_count": 67,
   "id": "774cfe1f-d194-4c29-bf54-bea29adf564e",
   "metadata": {},
   "outputs": [],
   "source": [
    "double_points = torch.ones(10, 2, dtype=torch.double)\n",
    "short_points = torch.tensor([[1, 2], [3, 4]], dtype=torch.short)"
   ]
  },
  {
   "cell_type": "markdown",
   "id": "3be956cc-769f-46f5-8c79-1cbee785cb46",
   "metadata": {},
   "source": [
    "Über `Tensor.dtype` lässt sich der geseicherte Datentyp auslesen:*"
   ]
  },
  {
   "cell_type": "code",
   "execution_count": 68,
   "id": "19d3068d-0236-4f03-bfaa-7be4bdfd498f",
   "metadata": {},
   "outputs": [
    {
     "data": {
      "text/plain": [
       "torch.int16"
      ]
     },
     "execution_count": 68,
     "metadata": {},
     "output_type": "execute_result"
    }
   ],
   "source": [
    "short_points.dtype"
   ]
  },
  {
   "cell_type": "markdown",
   "id": "ed75e232-5317-4993-aa4d-169bf158b29c",
   "metadata": {},
   "source": [
    "Datentypen lassen sich auch umcasten:"
   ]
  },
  {
   "cell_type": "code",
   "execution_count": 69,
   "id": "038adf50-1057-4762-81e6-c8085bdfd2f1",
   "metadata": {},
   "outputs": [
    {
     "data": {
      "text/plain": [
       "tensor([[0., 0.],\n",
       "        [0., 0.],\n",
       "        [0., 0.],\n",
       "        [0., 0.],\n",
       "        [0., 0.],\n",
       "        [0., 0.],\n",
       "        [0., 0.],\n",
       "        [0., 0.],\n",
       "        [0., 0.],\n",
       "        [0., 0.]], dtype=torch.float64)"
      ]
     },
     "execution_count": 69,
     "metadata": {},
     "output_type": "execute_result"
    }
   ],
   "source": [
    "double_points = torch.zeros(10, 2).double()\n",
    "short_points = torch.ones(10, 2).short()\n",
    "\n",
    "# Alternativ über die to()-Methode:\n",
    "double_points = torch.zeros(10, 2).to(torch.double)\n",
    "short_points = torch.ones(10, 2).to(dtype=torch.short)\n",
    "\n",
    "double_points"
   ]
  },
  {
   "cell_type": "markdown",
   "id": "e13322e2-aedc-402f-aee9-2a08741bc568",
   "metadata": {},
   "source": [
    "Werden Operationen mit verschiedenen Datentypen durchgeführt, so werden diese (wo nötig) umgecastet:"
   ]
  },
  {
   "cell_type": "code",
   "execution_count": 70,
   "id": "25bc898c-071e-4cee-b7be-a87dccd7192d",
   "metadata": {},
   "outputs": [
    {
     "data": {
      "text/plain": [
       "tensor([0., 0., 0., 0., 0.], dtype=torch.float64)"
      ]
     },
     "execution_count": 70,
     "metadata": {},
     "output_type": "execute_result"
    }
   ],
   "source": [
    "points_64 = torch.rand(5, dtype=torch.double)\n",
    "points_short = points_64.to(torch.short)\n",
    "points_64 * points_short"
   ]
  },
  {
   "cell_type": "markdown",
   "id": "7b054ff1-a32c-4571-8bf3-306fb65d005e",
   "metadata": {},
   "source": [
    "## Die Tensor-API"
   ]
  },
  {
   "cell_type": "markdown",
   "id": "a37ed0a9-b918-4a9f-b7fb-f4a678a340c5",
   "metadata": {},
   "source": [
    "Viele Funktionen lassen sich über das `torch`-Modul oder auch über ein Tensor selbst aufrufen:"
   ]
  },
  {
   "cell_type": "code",
   "execution_count": 71,
   "id": "b2e8c39e-95ef-45f4-a533-3fe8dbc49787",
   "metadata": {},
   "outputs": [
    {
     "data": {
      "text/plain": [
       "(torch.Size([3, 2]), torch.Size([2, 3]))"
      ]
     },
     "execution_count": 71,
     "metadata": {},
     "output_type": "execute_result"
    }
   ],
   "source": [
    "a = torch.ones(3, 2)\n",
    "a_t = torch.transpose(a, 0, 1)\n",
    "\n",
    "# Oder direkt übers Objekt:\n",
    "a_t = a.transpose(0, 1)\n",
    "\n",
    "a.shape, a_t.shape"
   ]
  },
  {
   "cell_type": "markdown",
   "id": "8ce5de35-7eba-4798-9f30-dabbff4504f0",
   "metadata": {},
   "source": [
    "<div class=\"alert alert-block alert-info\"><b>TODO:</b> Ausprobieren weiterer Funktionen.</div>"
   ]
  },
  {
   "cell_type": "markdown",
   "id": "1e941976-0d47-4312-9dd1-98f928d3ed66",
   "metadata": {},
   "source": [
    "## Tensors im Speicher"
   ]
  },
  {
   "cell_type": "markdown",
   "id": "17eec1aa-acb7-4a89-b05d-a83fbbd9b39f",
   "metadata": {},
   "source": [
    "<div class=\"alert alert-block alert-info\"><b>TODO:</b> Kommt noch... (hat sich für PyTorch 2.0 geändert)</div>"
   ]
  },
  {
   "cell_type": "markdown",
   "id": "8eef76d8-f86a-48e5-b0ef-5ea5fd99af31",
   "metadata": {},
   "source": [
    "## Tensors und die GPU"
   ]
  },
  {
   "cell_type": "markdown",
   "id": "e3225e7d-2da3-49af-a595-a90f072d219a",
   "metadata": {},
   "source": [
    "Üblicherweise werden Tensors im RAM gespeichert. Möchte man diese stattdessen im VRAM ablegen, so kann man den `device`-Parameter verwenden:"
   ]
  },
  {
   "cell_type": "code",
   "execution_count": 72,
   "id": "d38e6c45-a694-4232-87a5-c73ec7bd27c3",
   "metadata": {},
   "outputs": [],
   "source": [
    "points_gpu = torch.tensor([[4.0, 1.0], [5.0, 3.0], [2.0, 1.0]], device=\"cuda\")"
   ]
  },
  {
   "cell_type": "markdown",
   "id": "c1c940aa-880d-4a4b-a221-d88fbbf0d36b",
   "metadata": {},
   "source": [
    "Bereits existierende Tensors können auch später in den VRAM geschoben werden:"
   ]
  },
  {
   "cell_type": "code",
   "execution_count": 73,
   "id": "21390e71-23c8-433c-8645-932337663b8e",
   "metadata": {},
   "outputs": [],
   "source": [
    "points_gpu = points.to(device=\"cuda\")\n",
    "\n",
    "# oder bei mehreren GPUs mit Angabe eines Index:\n",
    "points_gpu = points.to(device=\"cuda:0\")\n",
    "\n",
    "# oder kurzerhand:\n",
    "points_gpu = points.cuda()\n",
    "points_gpu = points.cuda(0)\n",
    "points_cpu = points_gpu.cpu()"
   ]
  },
  {
   "cell_type": "markdown",
   "id": "0797b63c-a074-4433-9a7a-710609361e84",
   "metadata": {},
   "source": [
    "Wichtig zu beachten ist, dass ein auf die GPU geschobener Tensor auch dort bleibt, sofern er nicht manuell woanders hingeschoben wird."
   ]
  },
  {
   "cell_type": "markdown",
   "id": "08c8247c-599f-4953-adcd-b41459ecba26",
   "metadata": {},
   "source": [
    "## (De-)Serialisierung von Tensors"
   ]
  },
  {
   "cell_type": "markdown",
   "id": "c1adff64-be55-45ff-8490-9d6e91226902",
   "metadata": {},
   "source": [
    "Tensors können auch als Datei für den späteren Gebrauch abgespeichert werden. Wichtig ist, dass nur PyTorch mit den abgespeicherten Dateien etwas anfangen kann:"
   ]
  },
  {
   "cell_type": "code",
   "execution_count": 74,
   "id": "9e0113c5-cc4a-4fff-988e-26fa363d1d19",
   "metadata": {},
   "outputs": [],
   "source": [
    "# Speichern\n",
    "torch.save(points, \"./ourpoints.t\")\n",
    "\n",
    "# Laden\n",
    "points = torch.load(\"./ourpoints.t\")"
   ]
  }
 ],
 "metadata": {
  "kernelspec": {
   "display_name": "ds-env",
   "language": "python",
   "name": "ds-env"
  },
  "language_info": {
   "codemirror_mode": {
    "name": "ipython",
    "version": 3
   },
   "file_extension": ".py",
   "mimetype": "text/x-python",
   "name": "python",
   "nbconvert_exporter": "python",
   "pygments_lexer": "ipython3",
   "version": "3.11.5"
  }
 },
 "nbformat": 4,
 "nbformat_minor": 5
}
