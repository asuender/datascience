{
 "cells": [
  {
   "cell_type": "markdown",
   "id": "7d4666b6-c50b-4078-99f4-3cc362b4d7c7",
   "metadata": {},
   "source": [
    "# Pima.tr2 und `scikit-learn`\n",
    "\n",
    "Andreas Sünder"
   ]
  },
  {
   "cell_type": "markdown",
   "id": "f259b5ee-6a2e-4659-81f9-e25d59ef5e4a",
   "metadata": {},
   "source": [
    "Zuerst ist es wichtig, die nötigen Dinge zu importieren:"
   ]
  },
  {
   "cell_type": "code",
   "execution_count": 152,
   "id": "6071ba55-0400-47bd-baaf-faffe43e3a15",
   "metadata": {},
   "outputs": [],
   "source": [
    "# Custom helper functions\n",
    "from helper import *\n",
    "\n",
    "import csv\n",
    "from sklearn.svm import SVC\n",
    "from sklearn.linear_model import Perceptron\n",
    "from sklearn.neighbors import KNeighborsClassifier\n",
    "from sklearn.model_selection import train_test_split"
   ]
  },
  {
   "cell_type": "markdown",
   "id": "cc614c6f",
   "metadata": {},
   "source": [
    "`scikit-learn` ist so gestaltet, dass die Modelle austauschbar sind. Statt `Perceptron` können wir jedes beliebige Modell verwenden."
   ]
  },
  {
   "cell_type": "code",
   "execution_count": 153,
   "id": "138f8154-38a1-4d56-885b-27e6b3576537",
   "metadata": {},
   "outputs": [],
   "source": [
    "model = Perceptron()"
   ]
  },
  {
   "cell_type": "markdown",
   "id": "58f7a954",
   "metadata": {},
   "source": [
    "Nun lesen wir die Daten aus:"
   ]
  },
  {
   "cell_type": "code",
   "execution_count": 154,
   "id": "da55afd7-13d5-4f95-8299-8cb45c0fb78c",
   "metadata": {},
   "outputs": [],
   "source": [
    "with open(\"data/mass/Pima.tr2.csv\") as file:\n",
    "    reader = csv.reader(file)\n",
    "    next(reader)\n",
    "\n",
    "    data = []\n",
    "    for row in reader:\n",
    "        # Some rows contain NA values, these must be ignored\n",
    "        if \"NA\" in row:\n",
    "            continue\n",
    "            \n",
    "        data.append({\n",
    "            \"evidence\": [float(value) for value in row[:-1]],\n",
    "            \"label\": row[-1]\n",
    "        })"
   ]
  },
  {
   "cell_type": "markdown",
   "id": "d204de98",
   "metadata": {},
   "source": [
    "Die ersten paar Zeilen unseres Datensatzes schauen dabei so aus:"
   ]
  },
  {
   "cell_type": "code",
   "execution_count": 155,
   "id": "84365356-efc1-42ea-8ad0-73f93edfba88",
   "metadata": {},
   "outputs": [
    {
     "data": {
      "text/plain": [
       "[{'evidence': [1.0, 5.0, 86.0, 68.0, 28.0, 30.2, 0.364, 24.0], 'label': 'No'},\n",
       " {'evidence': [2.0, 7.0, 195.0, 70.0, 33.0, 25.1, 0.163, 55.0],\n",
       "  'label': 'Yes'},\n",
       " {'evidence': [3.0, 5.0, 77.0, 82.0, 41.0, 35.8, 0.156, 35.0], 'label': 'No'},\n",
       " {'evidence': [4.0, 0.0, 165.0, 76.0, 43.0, 47.9, 0.259, 26.0], 'label': 'No'},\n",
       " {'evidence': [5.0, 0.0, 107.0, 60.0, 25.0, 26.4, 0.133, 23.0], 'label': 'No'},\n",
       " {'evidence': [6.0, 5.0, 97.0, 76.0, 27.0, 35.6, 0.378, 52.0], 'label': 'Yes'}]"
      ]
     },
     "execution_count": 155,
     "metadata": {},
     "output_type": "execute_result"
    }
   ],
   "source": [
    "head(data)"
   ]
  },
  {
   "cell_type": "code",
   "execution_count": 156,
   "id": "9bda70e0-12c1-47f7-8e75-ae41026c35d0",
   "metadata": {},
   "outputs": [],
   "source": [
    "evidence = [row[\"evidence\"] for row in data]\n",
    "labels = [row[\"label\"] for row in data]"
   ]
  },
  {
   "cell_type": "markdown",
   "id": "b0b0ea8e",
   "metadata": {},
   "source": [
    "`scikit-learn` bietet uns auch nützliche Funktionen an, etwa, um die Daten in einen Trainings- sowie Testdatensatz aufzuteilen:"
   ]
  },
  {
   "cell_type": "code",
   "execution_count": 157,
   "id": "f41df9e3-d1e2-4c4e-9f2d-b13451531b9d",
   "metadata": {},
   "outputs": [],
   "source": [
    "x_training, x_testing, y_training, y_testing = train_test_split(\n",
    "    evidence, labels, test_size=0.2\n",
    ")"
   ]
  },
  {
   "cell_type": "markdown",
   "id": "704e0169",
   "metadata": {},
   "source": [
    "Nun können wir mit dem eigentlichen Trainieren beginnen:"
   ]
  },
  {
   "cell_type": "code",
   "execution_count": 158,
   "id": "792ad255-dca3-4d07-8fe2-432e1c445e8b",
   "metadata": {},
   "outputs": [],
   "source": [
    "%%capture\n",
    "model.fit(x_training, y_training)"
   ]
  },
  {
   "cell_type": "markdown",
   "id": "74367fc4",
   "metadata": {},
   "source": [
    "Als Ergebnis bekommen wir unsere Vorhersagen, wobei uns die Genauigkeit hier am ehesten interessiert:"
   ]
  },
  {
   "cell_type": "code",
   "execution_count": 159,
   "id": "8492257c-888b-4395-89ac-6f8a216f3be5",
   "metadata": {},
   "outputs": [],
   "source": [
    "predictions = model.predict(x_testing)"
   ]
  },
  {
   "cell_type": "code",
   "execution_count": 160,
   "id": "77fe76bf-c7b6-40b2-8dbd-e9713e7e15f2",
   "metadata": {},
   "outputs": [
    {
     "name": "stdout",
     "output_type": "stream",
     "text": [
      "Total: 40\n",
      "Correct: 28\n",
      "Incorrect: 12\n",
      "Accuracy: 70.0%\n"
     ]
    }
   ],
   "source": [
    "print( f\"Total: {len(predictions)}\" )\n",
    "print( f\"Correct: {(y_testing == predictions).sum()}\" )\n",
    "print( f\"Incorrect: {(y_testing != predictions).sum()}\" )\n",
    "print( f\"Accuracy: {(y_testing == predictions).sum()/len(predictions)*100}%\" )"
   ]
  }
 ],
 "metadata": {
  "kernelspec": {
   "display_name": "datascience",
   "language": "python",
   "name": "python3"
  },
  "language_info": {
   "codemirror_mode": {
    "name": "ipython",
    "version": 3
   },
   "file_extension": ".py",
   "mimetype": "text/x-python",
   "name": "python",
   "nbconvert_exporter": "python",
   "pygments_lexer": "ipython3",
   "version": "3.11.5"
  }
 },
 "nbformat": 4,
 "nbformat_minor": 5
}
